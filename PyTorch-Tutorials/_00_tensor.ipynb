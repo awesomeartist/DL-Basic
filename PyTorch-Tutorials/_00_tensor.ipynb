{
 "metadata": {
  "language_info": {
   "codemirror_mode": {
    "name": "ipython",
    "version": 3
   },
   "file_extension": ".py",
   "mimetype": "text/x-python",
   "name": "python",
   "nbconvert_exporter": "python",
   "pygments_lexer": "ipython3",
   "version": "3.8.8"
  },
  "orig_nbformat": 2,
  "kernelspec": {
   "name": "python388jvsc74a57bd0d820fdb209f5fb3d7158d20fb3da7b4f5ac073d878102351ac8f6edafea36c44",
   "display_name": "Python 3.8.8 64-bit ('yolov5': conda)"
  },
  "metadata": {
   "interpreter": {
    "hash": "d820fdb209f5fb3d7158d20fb3da7b4f5ac073d878102351ac8f6edafea36c44"
   }
  }
 },
 "nbformat": 4,
 "nbformat_minor": 2,
 "cells": [
  {
   "source": [
    "## 1.张量生成"
   ],
   "cell_type": "markdown",
   "metadata": {}
  },
  {
   "source": [
    "\n",
    "import torch\n",
    "import numpy as np\n",
    "\n",
    "#直接生成tensor\n",
    "data = [[1, 2],[3, 4]]\n",
    "x_data = torch.tensor(data)\n",
    "\n",
    "#通过numpy生成\n",
    "np_array = np.array(data)\n",
    "x_np = torch.from_numpy(np_array)\n",
    "\n",
    "#通过已有tensor生成\n",
    "x_ones = torch.ones_like(x_data)   # 保留 x_data 的属性\n",
    "print(f\"Ones Tensor: \\n {x_ones} \\n\")\n",
    "\n",
    "x_rand = torch.rand_like(x_data, dtype=torch.float)   # 重写 x_data 的数据类型，int -> float             \n",
    "print(f\"Random Tensor: \\n {x_rand} \\n\")\n",
    "\n",
    "#通过指导数据维度来生成张量\n",
    "shape = (2,3,)  #shape是元组类型，用于描述张量的维数\n",
    "rand_tensor = torch .rand(shape)\n",
    "ones_tensor = torch.ones(shape)\n",
    "zeros_tensor = torch.zeros(shape)\n",
    "\n",
    "print(f\"Random Tensor: \\n{rand_tensor} \\n\")\n",
    "print(f\"Ones Tensor: \\n {ones_tensor} \\n\")\n",
    "print(f\"Zeros Tensor: \\n {zeros_tensor}\")\n",
    "\n"
   ],
   "cell_type": "code",
   "metadata": {},
   "execution_count": null,
   "outputs": []
  },
  {
   "source": [
    "## 2.张量的属性"
   ],
   "cell_type": "markdown",
   "metadata": {}
  },
  {
   "cell_type": "code",
   "execution_count": null,
   "metadata": {},
   "outputs": [],
   "source": [
    "\n",
    "tensor = torch.rand(3,4)\n",
    "\n",
    "print(f\"Shape of tensor: {tensor.shape} \\n\")\n",
    "print(f\"Datatype of tensor: {tensor.dtype} \\n\")\n",
    "print(f\"Device tensor id stored on: {tensor.device}\")"
   ]
  },
  {
   "source": [
    "## 3.张量的运算"
   ],
   "cell_type": "markdown",
   "metadata": {}
  },
  {
   "cell_type": "code",
   "execution_count": null,
   "metadata": {},
   "outputs": [],
   "source": [
    "\n",
    "#判断当前环境GPU是否可用，然后将tensor导入GPU内运行\n",
    "if torch.cuda.is_available():\n",
    "    tensor = tensor.to(\"cuda\")\n",
    "    \n",
    "print(f\"Device tensor is stored on: {tensor.device}\")\n"
   ]
  },
  {
   "cell_type": "code",
   "execution_count": null,
   "metadata": {},
   "outputs": [],
   "source": [
    "#张量的索引和切片\n",
    "tensor = torch.ones(4, 4)\n",
    "tensor[:, 1] = 0        #将第1列（从0开始）的数据全部赋值为0\n",
    "print(tensor)\n"
   ]
  },
  {
   "cell_type": "code",
   "execution_count": null,
   "metadata": {},
   "outputs": [],
   "source": [
    "#张量的拼接\n",
    "t1 = torch.cat([tensor, tensor, tensor], dim=1)\n",
    "print(t1 ,\"\\n\")"
   ]
  },
  {
   "cell_type": "code",
   "execution_count": null,
   "metadata": {},
   "outputs": [],
   "source": [
    "#张量的乘积和矩阵乘法\n",
    "#逐个元素相乘结果\n",
    "print(f\"tensor.mul(tensor): \\n {tensor.mul(tensor)} \\n\")\n",
    "#等价写法\n",
    "print(f\"tensor * tensor: \\n {tensor * tensor} \\n\") \n",
    "\n",
    "#矩阵乘法\n",
    "print(f\"tensor.matmul(tensor.T): \\n {tensor.matmul(tensor.T)} \\n\")\n",
    "#等价写法\n",
    "print(f\"tensor @ tensor.T: \\n {tensor @ tensor.T} \\n\")"
   ]
  },
  {
   "cell_type": "code",
   "execution_count": null,
   "metadata": {},
   "outputs": [],
   "source": [
    "#自动赋值运算\n",
    "print(tensor, \"\\n\")\n",
    "tensor.add_(5)\n",
    "print(tensor, \"\\n\")"
   ]
  },
  {
   "source": [
    "## 4.Tensor与Numpy的转化\n",
    "> 张量和Numpy array数组在CPU上可以共用一块内存区域，改变其中一个另一个也会随之改变。"
   ],
   "cell_type": "markdown",
   "metadata": {}
  },
  {
   "cell_type": "code",
   "execution_count": null,
   "metadata": {},
   "outputs": [],
   "source": [
    "#由张量变换为Numpy array数组\n",
    "t = torch.ones(5)\n",
    "print(f\"t: {t} \\n\")\n",
    "n = t.numpy()\n",
    "print(f\"n: {n} \\n\")\n",
    "\n",
    "#修改张量的值，则Numpy array数组值也会随之改变\n",
    "t.add_(1)\n",
    "print(f\"t: {t} \\n\")\n",
    "print(f\"n: {n} \\n\")\n",
    "\n",
    "#由Numpy array数组转为张量\n",
    "n = np.ones(5)\n",
    "t = torch.from_numpy(n)\n",
    "\n",
    "np.add(n, 1, out=n)\n",
    "print(f\"t: {t} \\n\")\n",
    "print(f\"n: {n} \\n\")"
   ]
  }
 ]
}