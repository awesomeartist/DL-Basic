{
 "cells": [
  {
   "attachments": {},
   "cell_type": "markdown",
   "metadata": {},
   "source": [
    "### 查看 Pytorch 版本，检测 CUDA 是否可用"
   ]
  },
  {
   "cell_type": "code",
   "execution_count": 1,
   "metadata": {},
   "outputs": [
    {
     "name": "stdout",
     "output_type": "stream",
     "text": [
      "1.7.1\n",
      "True\n"
     ]
    }
   ],
   "source": [
    "import torch\n",
    "print(torch.__version__)\n",
    "print(torch.cuda.is_available())\n"
   ]
  },
  {
   "attachments": {},
   "cell_type": "markdown",
   "metadata": {},
   "source": [
    "### 交叉熵损失计算"
   ]
  },
  {
   "cell_type": "code",
   "execution_count": 4,
   "metadata": {},
   "outputs": [
    {
     "name": "stdout",
     "output_type": "stream",
     "text": [
      "0.9729189131256584\n"
     ]
    }
   ],
   "source": [
    "# 使用 numpy 直接计算\n",
    "\n",
    "import numpy as np\n",
    "\n",
    "y = np.array([1, 0, 0])\n",
    "z = np.array([0.2, 0.1, -0.1])\n",
    "y_pred = np.exp(z) / np.exp(z).sum()\n",
    "loss = (- y * np.log(y_pred)).sum()\n",
    "print(loss)\n",
    "\n"
   ]
  },
  {
   "cell_type": "code",
   "execution_count": 3,
   "metadata": {},
   "outputs": [
    {
     "name": "stdout",
     "output_type": "stream",
     "text": [
      "tensor(0.9729)\n"
     ]
    }
   ],
   "source": [
    "# 使用 PyTorch 内部函数计算\n",
    "\n",
    "import torch\n",
    "\n",
    "y = torch.LongTensor([0])\n",
    "z = torch.Tensor([[0.2, 0.1, -0.1]])\n",
    "criterion = torch.nn.CrossEntropyLoss()\n",
    "loss = criterion(z, y)\n",
    "print(loss)\n",
    "\n"
   ]
  },
  {
   "cell_type": "code",
   "execution_count": 7,
   "metadata": {},
   "outputs": [
    {
     "name": "stdout",
     "output_type": "stream",
     "text": [
      "Batch Loss1 = tensor(0.4966) \n",
      "Batch Loss2 = tensor(1.2389)\n"
     ]
    }
   ],
   "source": [
    "# 两组数据的交叉熵对别\n",
    "\n",
    "import torch\n",
    "\n",
    "criterion = torch.nn.CrossEntropyLoss()\n",
    "Y = torch.LongTensor([2, 0, 1])\n",
    "\n",
    "Y_pred1 = torch.Tensor([[0.1, 0.2, 0.9],\n",
    "                        [1.1, 0.1, 0.2],\n",
    "                        [0.2, 2.1, 0.1]])\n",
    "Y_pred2 = torch.Tensor([[0.8, 0.2, 0.3],\n",
    "                        [0.2, 0.3, 0.5],\n",
    "                        [0.2, 0.2, 0.5]])\n",
    "l1 = criterion(Y_pred1, Y)\n",
    "l2 = criterion(Y_pred2, Y)\n",
    "print(\"Batch Loss1 =\", l1.data, \"\\nBatch Loss2 =\", l2.data)\n",
    "\n"
   ]
  },
  {
   "cell_type": "markdown",
   "metadata": {},
   "source": []
  },
  {
   "cell_type": "code",
   "execution_count": null,
   "metadata": {},
   "outputs": [],
   "source": []
  }
 ],
 "metadata": {
  "kernelspec": {
   "display_name": "yolov5",
   "language": "python",
   "name": "python3"
  },
  "language_info": {
   "codemirror_mode": {
    "name": "ipython",
    "version": 3
   },
   "file_extension": ".py",
   "mimetype": "text/x-python",
   "name": "python",
   "nbconvert_exporter": "python",
   "pygments_lexer": "ipython3",
   "version": "3.8.16"
  },
  "orig_nbformat": 2,
  "vscode": {
   "interpreter": {
    "hash": "8ab81d8c6c33f441aacc2ae501ce94c0323f337dc3eadc40dd17e3e003c4b6ec"
   }
  }
 },
 "nbformat": 4,
 "nbformat_minor": 2
}
