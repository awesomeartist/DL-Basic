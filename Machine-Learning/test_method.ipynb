{
 "cells": [
  {
   "attachments": {},
   "cell_type": "markdown",
   "metadata": {},
   "source": [
    "### 格式化输出"
   ]
  },
  {
   "cell_type": "code",
   "execution_count": 1,
   "metadata": {},
   "outputs": [
    {
     "name": "stdout",
     "output_type": "stream",
     "text": [
      "000100\n",
      "+00100\n",
      "+100\n"
     ]
    }
   ],
   "source": [
    "#python zfill\n",
    "s = '100'\n",
    "print(s.zfill(6))\n",
    "\n",
    "s = '+100'\n",
    "print(s.zfill(6))\n",
    "\n",
    "s = '+100'\n",
    "print(s.zfill(3))\n"
   ]
  },
  {
   "attachments": {},
   "cell_type": "markdown",
   "metadata": {},
   "source": [
    "### 系统操作"
   ]
  },
  {
   "cell_type": "code",
   "execution_count": 15,
   "metadata": {},
   "outputs": [
    {
     "data": {
      "text/plain": [
       "'c:\\\\Users\\\\liang\\\\Documents\\\\Workspace\\\\Python\\\\Project\\\\DL-Basic\\\\Machine-Learning'"
      ]
     },
     "execution_count": 15,
     "metadata": {},
     "output_type": "execute_result"
    }
   ],
   "source": [
    "import os\n",
    "\n",
    "# 获取当前文件绝对路径,实际调用这个方法的文件的路径\n",
    "os.getcwd()"
   ]
  },
  {
   "cell_type": "code",
   "execution_count": 7,
   "metadata": {},
   "outputs": [
    {
     "data": {
      "text/plain": [
       "'c:\\\\Users\\\\liang\\\\Documents\\\\Workspace\\\\Python\\\\Project\\\\DL-Basic\\\\Machine-Learning\\\\../..'"
      ]
     },
     "execution_count": 7,
     "metadata": {},
     "output_type": "execute_result"
    }
   ],
   "source": [
    "import os\n",
    "\n",
    "# 连接文件路径\n",
    "os.path.join(os.getcwd(), \"../..\")\n"
   ]
  },
  {
   "cell_type": "code",
   "execution_count": 14,
   "metadata": {},
   "outputs": [
    {
     "name": "stdout",
     "output_type": "stream",
     "text": [
      "c:\\Users\\liang\\Documents\\Workspace\\Python\\Project\\DL-Basic\\Machine-Learning\\__file__\n"
     ]
    }
   ],
   "source": [
    "import os\n",
    "\n",
    "# 获取当前文件名及文件所在位置，返回的是方法所在py文件的位置\n",
    "data_root = os.path.abspath('__file__')\n",
    "print(data_root)"
   ]
  },
  {
   "cell_type": "code",
   "execution_count": 18,
   "metadata": {},
   "outputs": [
    {
     "data": {
      "text/plain": [
       "'../..'"
      ]
     },
     "execution_count": 18,
     "metadata": {},
     "output_type": "execute_result"
    }
   ],
   "source": [
    "import os\n",
    "\n",
    "# 从文件目录中获取文件夹目录\n",
    "os.path.dirname('../../')"
   ]
  }
 ],
 "metadata": {
  "kernelspec": {
   "display_name": "yolov5",
   "language": "python",
   "name": "python3"
  },
  "language_info": {
   "codemirror_mode": {
    "name": "ipython",
    "version": 3
   },
   "file_extension": ".py",
   "mimetype": "text/x-python",
   "name": "python",
   "nbconvert_exporter": "python",
   "pygments_lexer": "ipython3",
   "version": "3.8.16"
  },
  "orig_nbformat": 2,
  "vscode": {
   "interpreter": {
    "hash": "8ab81d8c6c33f441aacc2ae501ce94c0323f337dc3eadc40dd17e3e003c4b6ec"
   }
  }
 },
 "nbformat": 4,
 "nbformat_minor": 2
}
